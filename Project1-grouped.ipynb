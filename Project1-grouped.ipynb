{
 "cells": [
  {
   "cell_type": "code",
   "execution_count": 1,
   "id": "712e7bc0",
   "metadata": {},
   "outputs": [],
   "source": [
    "# Dependencies\n",
    "import requests\n",
    "import numpy as np\n",
    "import pandas as pd\n",
    "from census import Census\n",
    "import matplotlib.pyplot as plt"
   ]
  },
  {
   "cell_type": "code",
   "execution_count": 2,
   "id": "4330c440",
   "metadata": {},
   "outputs": [
    {
     "ename": "ModuleNotFoundError",
     "evalue": "No module named 'config'",
     "output_type": "error",
     "traceback": [
      "\u001b[0;31m---------------------------------------------------------------------------\u001b[0m",
      "\u001b[0;31mModuleNotFoundError\u001b[0m                       Traceback (most recent call last)",
      "\u001b[0;32m/var/folders/x7/qhkcjlbd6f189g4g155b6ps00000gn/T/ipykernel_22921/3375910649.py\u001b[0m in \u001b[0;36m<module>\u001b[0;34m\u001b[0m\n\u001b[1;32m      1\u001b[0m \u001b[0;31m# Import U.S. Census API Key\u001b[0m\u001b[0;34m\u001b[0m\u001b[0;34m\u001b[0m\u001b[0m\n\u001b[0;32m----> 2\u001b[0;31m \u001b[0;32mfrom\u001b[0m \u001b[0mconfig\u001b[0m \u001b[0;32mimport\u001b[0m \u001b[0mapi_key\u001b[0m\u001b[0;34m\u001b[0m\u001b[0;34m\u001b[0m\u001b[0m\n\u001b[0m\u001b[1;32m      3\u001b[0m \u001b[0;34m\u001b[0m\u001b[0m\n\u001b[1;32m      4\u001b[0m \u001b[0;31m# Create an instance of the Census library\u001b[0m\u001b[0;34m\u001b[0m\u001b[0;34m\u001b[0m\u001b[0m\n\u001b[1;32m      5\u001b[0m c = Census(\n",
      "\u001b[0;31mModuleNotFoundError\u001b[0m: No module named 'config'"
     ]
    }
   ],
   "source": [
    "# Import U.S. Census API Key\n",
    "from config import api_key\n",
    "\n",
    "# Create an instance of the Census library\n",
    "c = Census(\n",
    "    api_key,\n",
    "    year = 2021\n",
    ")"
   ]
  },
  {
   "cell_type": "code",
   "execution_count": null,
   "id": "10743003",
   "metadata": {},
   "outputs": [],
   "source": [
    "slc_zipcodes = ['84054, 84087, 84101, 84102, 84103, 84104, 84105, 84106, 84107, 84108, 84109, 84111, 84112, 84113, 84115, 84116, 84117, 84118, 84119, 84120, 84123, 84128, 84129, 84132, 84144']\n",
    "\n",
    "# Define the zip code groups\n",
    "north_salt_lake_zipcodes = ['84054', '84087']\n",
    "salt_lake_city_zipcodes = ['84101', '84102', '84103', '84104', '84105', '84107', '84108', '84109', '84111', '84112', '84113', '84116', '84117', '84118', '84120', '84128', '84132', '84144']\n",
    "south_salt_lake_county_unified_pd_zipcodes = ['84119', '84123', '84129']\n",
    "south_salt_lake_zipcodes = ['84106', '84115']\n",
    "# Run Census Search to retrieve data for Utah and Salt Lake City (2021 ACS5 Census)\n",
    "census_data = c.acs5.get(\n",
    "    (\n",
    "        \"NAME\",\n",
    "        \"B19013_001E\",\n",
    "        \"B01003_001E\",\n",
    "        \"B01002_001E\",\n",
    "        \"B19301_001E\",\n",
    "        \"B17001_002E\"\n",
    "    ),\n",
    "    {'for': 'zip code tabulation area:' + ','.join(north_salt_lake_zipcodes + salt_lake_city_zipcodes + south_salt_lake_county_unified_pd_zipcodes + south_salt_lake_zipcodes)}\n",
    ")\n",
    "# Convert to DataFrame\n",
    "census_pd = pd.DataFrame(census_data)\n",
    "# Column renaming\n",
    "census_pd = census_pd.rename(\n",
    "    columns={\n",
    "        \"B01003_001E\": \"Population\",\n",
    "        \"B01002_001E\": \"Median Age\",\n",
    "        \"B19013_001E\": \"Household Income\",\n",
    "        \"B19301_001E\": \"Per Capita Income\",\n",
    "        \"B17001_002E\": \"Poverty Count\",\n",
    "        \"NAME\": \"Name\",\n",
    "        \"zip code tabulation area\": \"Zipcode\"\n",
    "    }\n",
    ")\n",
    "# Add a Poverty Rate column (Poverty Count / Population)\n",
    "census_pd[\"Poverty Rate\"] = 100 * census_pd[\"Poverty Count\"].astype(int) / census_pd[\"Population\"].astype(int)\n",
    "\n",
    "# Define a function to group zipcodes\n",
    "def group_zipcode(zipcode):\n",
    "    if zipcode in north_salt_lake_zipcodes:\n",
    "        return 'NORTH SALT LAKE'\n",
    "    elif zipcode in salt_lake_city_zipcodes:\n",
    "        return 'SALT LAKE CITY'\n",
    "    elif zipcode in south_salt_lake_county_unified_pd_zipcodes:\n",
    "        return 'SALT LAKE CNTY UNIFD PD'\n",
    "    elif zipcode in south_salt_lake_zipcodes:\n",
    "        return 'SOUTH SALT LAKE'\n",
    "    else:\n",
    "        return 'Other'\n",
    "    \n",
    "# Apply the group_zipcode function to the Name column to create a new column called Group\n",
    "census_pd['Group'] = census_pd['Zipcode'].apply(group_zipcode)\n",
    "# Configure the final DataFrame\n",
    "census_pd = census_pd[\n",
    "    [\n",
    "        \"Name\",\n",
    "        \"Zipcode\",\n",
    "        \"Group\",\n",
    "        \"Population\",\n",
    "        \"Median Age\",\n",
    "        \"Household Income\",\n",
    "        \"Per Capita Income\",\n",
    "        \"Poverty Count\",\n",
    "        \"Poverty Rate\"\n",
    "    ]\n",
    "]\n",
    "# Display DataFrame length and sample data\n",
    "print(f\"Number of rows in the DataFrame: {len(census_pd)}\")\n",
    "census_pd\n",
    "\n",
    "# Display DataFrame length and sample data\n",
    "print(f\"Number of rows in the DataFrame: {len(census_pd)}\")\n",
    "census_pd.head()"
   ]
  },
  {
   "cell_type": "code",
   "execution_count": null,
   "id": "58911c80",
   "metadata": {},
   "outputs": [],
   "source": [
    "# Save the DataFrame as a CSV\n",
    "# Note: To avoid any issues later, use encoding=\"utf-8\"\n",
    "census_pd.to_csv(\"census_data.csv\", encoding=\"utf-8\", index=False)"
   ]
  },
  {
   "cell_type": "code",
   "execution_count": null,
   "id": "383db200",
   "metadata": {},
   "outputs": [],
   "source": []
  }
 ],
 "metadata": {
  "kernelspec": {
   "display_name": "Python 3 (ipykernel)",
   "language": "python",
   "name": "python3"
  },
  "language_info": {
   "codemirror_mode": {
    "name": "ipython",
    "version": 3
   },
   "file_extension": ".py",
   "mimetype": "text/x-python",
   "name": "python",
   "nbconvert_exporter": "python",
   "pygments_lexer": "ipython3",
   "version": "3.9.13"
  }
 },
 "nbformat": 4,
 "nbformat_minor": 5
}
