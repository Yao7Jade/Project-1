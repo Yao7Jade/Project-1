{
 "cells": [
  {
   "cell_type": "markdown",
   "id": "96649c3b",
   "metadata": {},
   "source": [
    "## Analysis of Crime and Census Data\n",
    "\n",
    "The following code performs an analysis of crime data and its relationships with various demographic features. The analysis begins by importing the necessary libraries and reading in two datasets: the UCR dataset and the census dataset. These two datasets are then merged on the \"Group\" column.\n",
    "\n",
    "The code then defines a function called `plot_crime_counts` that takes in various demographic features, such as age, sex, race, and ethnicity, and plots the count of crimes based on these features. This function groups the data by the specified demographic feature and counts the number of values in the crime column. It then creates a bar plot using seaborn, with the x-axis labeled with the specified demographic feature, the y-axis labeled with the crime count, and the title set to the specified title. The plot is saved with a specified filename and returned as an object.\n",
    "\n",
    "Using the `plot_crime_counts` function, the code plots crime counts by age, sex, race, and ethnicity. It then uses a subset of the data with only the necessary columns to calculate the crime rate for each city. After grouping the data by city, the code calculates the mean crime rate for each city and prints it out.\n",
    "\n",
    "The code then converts the `Incident_Date` column to a datetime format and groups the data by year and offense type. It then calculates the count of incidents and prints the results.\n",
    "\n",
    "Lastly, the code defines two functions: `plot_corr_heatmap` and `plot_regression_scatter`. The `plot_corr_heatmap` function creates a correlation matrix heatmap using seaborn. The `plot_regression_scatter` function creates a scatter plot of the relationship between two variables using seaborn.\n",
    "\n",
    "Using these two functions, the code selects the relevant columns for correlation analysis, creates a correlation matrix heatmap, and creates four linear regression scatter plots to explore the relationships between demographic variables and crime rate. The plots include population vs. crime rate, median age vs. crime rate, household income vs. crime rate, and per capita income vs. crime rate."
   ]
  },
  {
   "cell_type": "code",
   "execution_count": null,
   "id": "915db464",
   "metadata": {},
   "outputs": [],
   "source": [
    "#Dependencies\n",
    "import pandas as pd\n",
    "import seaborn as sns\n",
    "import matplotlib.pyplot as plt\n",
    "import statsmodels.api as sm\n",
    "import folium"
   ]
  },
  {
   "cell_type": "code",
   "execution_count": null,
   "id": "0911a25f",
   "metadata": {},
   "outputs": [],
   "source": [
    "# Read the UCR dataset\n",
    "ucr_data = pd.read_csv(\"FBI's UCR - SLC.csv\")\n",
    "\n",
    "# Read the census dataset\n",
    "census_data = pd.read_csv('census_data.csv')\n",
    "\n",
    "# Merge the two datasets on the \"Group\" column\n",
    "merged_data = pd.merge(ucr_data, census_data, on='Group')"
   ]
  },
  {
   "cell_type": "code",
   "execution_count": null,
   "id": "ae72a260",
   "metadata": {},
   "outputs": [],
   "source": [
    "def plot_crime_counts(data, x_col, y_col, x_label, y_label, title, file_name, fig_size=(8, 6), x_label_fontsize=8):\n",
    "    crime_counts = data.groupby([x_col])[y_col].count().reset_index(name='count')\n",
    "    fig = sns.barplot(x=x_col, y='count', data=crime_counts)\n",
    "    fig.set(xlabel=x_label, ylabel=y_label)\n",
    "    fig.set(title=title)\n",
    "    fig.set_xticklabels(fig.get_xticklabels(), rotation=45, ha='right', fontsize=x_label_fontsize)\n",
    "    fig.figure.set_size_inches(fig_size[0], fig_size[1])\n",
    "    fig.figure.savefig(file_name, bbox_inches='tight')\n",
    "    return fig\n",
    "\n",
    "# Subset the data to include only the variables of interest\n",
    "crime_data = merged_data[['Group', 'Incident_ID', 'Arrestee_Age', 'Arrestee_Sex', 'Arrestee_Race', 'Arrestee_Ethnicity']]\n",
    "\n",
    "# Plot crime counts by age\n",
    "fig1 = plot_crime_counts(crime_data, 'Arrestee_Age', 'Incident_ID', 'Age Group', 'Crime Count', 'Crime Counts by Age Group', 'age_crime_counts.png', fig_size=(12, 6), x_label_fontsize=6)\n",
    "\n",
    "# Plot crime counts by sex\n",
    "fig2 = plot_crime_counts(crime_data, 'Arrestee_Sex', 'Incident_ID', 'Sex', 'Crime Count', 'Crime Counts by Sex', 'sex_crime_counts.png')\n",
    "\n",
    "# Plot crime counts by race\n",
    "fig3 = plot_crime_counts(crime_data, 'Arrestee_Race', 'Incident_ID', 'Race', 'Crime Count', 'Crime Counts by Race', 'race_crime_counts.png')\n",
    "\n",
    "# Plot crime counts by ethnicity\n",
    "fig4 = plot_crime_counts(crime_data, 'Arrestee_Ethnicity', 'Incident_ID', 'Ethnicity', 'Crime Count', 'Crime Counts by Ethnicity', 'ethnicity_crime_counts.png')"
   ]
  },
  {
   "cell_type": "code",
   "execution_count": null,
   "id": "47f5b4ac",
   "metadata": {},
   "outputs": [],
   "source": [
    "# Calculate crime rate for each city\n",
    "merged_data['Crime_Rate'] = merged_data['Incident_ID'] / merged_data['Population']\n",
    "\n",
    "# Group by city and calculate mean crime rate\n",
    "crime_rates = merged_data.groupby('Group')['Crime_Rate'].mean().round(2)\n",
    "\n",
    "print(crime_rates)"
   ]
  },
  {
   "cell_type": "code",
   "execution_count": null,
   "id": "b6520d71",
   "metadata": {},
   "outputs": [],
   "source": [
    "# Convert the 'Incident_Date' column to a datetime format\n",
    "ucr_data['Incident_Date'] = pd.to_datetime(ucr_data['Incident_Date'])\n",
    "\n",
    "# Group by year and offense type, then calculate the count of incidents\n",
    "crime_trends = ucr_data.groupby([ucr_data['Incident_Date'].dt.year, 'Offense_Type'])['Incident_ID'].count()\n",
    "\n",
    "print(crime_trends)"
   ]
  },
  {
   "cell_type": "code",
   "execution_count": null,
   "id": "25848c8e",
   "metadata": {},
   "outputs": [],
   "source": [
    "# Define function to plot correlation matrix heatmap\n",
    "def plot_corr_heatmap(data, filename):\n",
    "    corr_matrix = data.corr()\n",
    "    plt.figure(figsize=(8, 6))\n",
    "    sns.heatmap(corr_matrix, annot=True, cmap='coolwarm')\n",
    "    plt.title('Correlation Matrix Heatmap')\n",
    "    plt.xlabel('Demographic Variables')\n",
    "    plt.ylabel('Demographic Variables')\n",
    "    plt.savefig(filename)\n",
    "    plt.clf()\n",
    "\n",
    "# Define function to plot linear regression scatter plot\n",
    "def plot_regression_scatter(x, y, x_label, y_label, title, filename):\n",
    "    sns.lmplot(x=x, y=y, data=merged_data)\n",
    "    plt.title(title)\n",
    "    plt.xlabel(x_label)\n",
    "    plt.ylabel(y_label)\n",
    "    plt.savefig(filename)\n",
    "    plt.clf()\n",
    "\n",
    "# Select relevant columns for correlation analysis\n",
    "corr_data = merged_data[['Crime_Rate', 'Population', 'Median Age', 'Household Income', 'Per Capita Income', 'Poverty Count', 'Poverty Rate']]\n",
    "\n",
    "# Plot correlation matrix heatmap and save plot\n",
    "plot_corr_heatmap(corr_data, 'correlation_matrix_heatmap.png')\n",
    "\n",
    "# Plot linear regression models and save plots\n",
    "plot_regression_scatter('Population', 'Crime_Rate', 'Population', 'Crime Rate', 'Linear Regression: Population vs. Crime Rate', 'population_vs_crime_rate.png')\n",
    "plot_regression_scatter('Median Age', 'Crime_Rate', 'Median Age', 'Crime Rate', 'Linear Regression: Median Age vs. Crime Rate', 'median_age_vs_crime_rate.png')\n",
    "plot_regression_scatter('Household Income', 'Crime_Rate', 'Household Income', 'Crime Rate', 'Linear Regression: Household Income vs. Crime Rate', 'household_income_vs_crime_rate.png')\n",
    "plot_regression_scatter('Per Capita Income', 'Crime_Rate', 'Per Capita Income', 'Crime Rate', 'Linear Regression: Per Capita Income vs. Crime Rate', 'per_capita_income_vs_crime_rate.png')\n",
    "plot_regression_scatter('Poverty Count', 'Crime_Rate', 'Poverty Count', 'Crime Rate', 'Linear Regression: Poverty Count vs. Crime Rate', 'poverty_count_vs_crime_rate.png')\n",
    "plot_regression_scatter('Poverty Rate', 'Crime_Rate', 'Poverty Rate', 'Crime Rate', 'Linear Regression: Poverty Rate vs. Crime Rate', 'poverty_rate_vs_crime_rate.png')"
   ]
  },
  {
   "cell_type": "code",
   "execution_count": null,
   "id": "79a071bf",
   "metadata": {},
   "outputs": [],
   "source": [
    "#Print and save regression model summary\n",
    "X = merged_data[['Population', 'Median Age', 'Household Income', 'Per Capita Income', 'Poverty Count', 'Poverty Rate']]\n",
    "y = merged_data['Crime_Rate']\n",
    "\n",
    "X = sm.add_constant(X) # add constant term to X matrix\n",
    "model = sm.OLS(y, X).fit() # fit OLS model\n",
    "\n",
    "print(model.summary())"
   ]
  }
 ],
 "metadata": {
  "kernelspec": {
   "display_name": "Python 3 (ipykernel)",
   "language": "python",
   "name": "python3"
  },
  "language_info": {
   "codemirror_mode": {
    "name": "ipython",
    "version": 3
   },
   "file_extension": ".py",
   "mimetype": "text/x-python",
   "name": "python",
   "nbconvert_exporter": "python",
   "pygments_lexer": "ipython3",
   "version": "3.9.13"
  }
 },
 "nbformat": 4,
 "nbformat_minor": 5
}
