{
 "cells": [
  {
   "cell_type": "code",
   "execution_count": 1,
   "id": "bc2950b5",
   "metadata": {},
   "outputs": [],
   "source": [
    "import pandas as pd\n"
   ]
  },
  {
   "cell_type": "code",
   "execution_count": 8,
   "id": "9524fa5a",
   "metadata": {},
   "outputs": [
    {
     "name": "stdout",
     "output_type": "stream",
     "text": [
      "Empty DataFrame\n",
      "Columns: [Incident_ID, Data_Year, Group, Incident_Date, Incident_Hour, Offense_Type, Location_Name, Cleared_Name, Arrestee_Age, Arrestee_Sex, Arrestee_Race, Arrestee_Ethnicity, Name, Zipcode, Population, Median Age, Household Income, Per Capita Income, Poverty Count, Poverty Rate]\n",
      "Index: []\n"
     ]
    }
   ],
   "source": [
    "# Import FBI's Uniform Crime Reporting (UCR) .xlsx - SLC.csv\n",
    "ucr_data = pd.read_csv(\"FBI's Uniform Crime Reporting (UCR) .xlsx - SLC.csv\")\n",
    "\n",
    "# Import census_data.csv\n",
    "census_data = pd.read_csv('census_data.csv')\n",
    "\n",
    "# Merge the two datasets on the \"Group\" column\n",
    "merged_data = pd.merge(ucr_data, census_data, on='Group')\n",
    "\n",
    "# Display the merged dataset\n",
    "print(merged_data.head())"
   ]
  },
  {
   "cell_type": "code",
   "execution_count": null,
   "id": "3f7f91f4",
   "metadata": {},
   "outputs": [],
   "source": []
  }
 ],
 "metadata": {
  "kernelspec": {
   "display_name": "Python 3 (ipykernel)",
   "language": "python",
   "name": "python3"
  },
  "language_info": {
   "codemirror_mode": {
    "name": "ipython",
    "version": 3
   },
   "file_extension": ".py",
   "mimetype": "text/x-python",
   "name": "python",
   "nbconvert_exporter": "python",
   "pygments_lexer": "ipython3",
   "version": "3.9.13"
  }
 },
 "nbformat": 4,
 "nbformat_minor": 5
}
